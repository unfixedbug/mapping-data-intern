{
 "cells": [
  {
   "cell_type": "code",
   "execution_count": 60,
   "metadata": {},
   "outputs": [
    {
     "name": "stdout",
     "output_type": "stream",
     "text": [
      "      type  score                            region\n",
      "0    White   90.0                  Kamptal, Austria\n",
      "1    White   90.0                  Kamptal, Austria\n",
      "2    White   90.0                           Austria\n",
      "3    White   88.0                           Austria\n",
      "4    White   88.0                           Austria\n",
      "..     ...    ...                               ...\n",
      "775    Red   92.0                        California\n",
      "776    Red   93.0                        California\n",
      "777    Red   94.0                        California\n",
      "778    Red   91.0  Santa Cruz Mountains, California\n",
      "779    Red   91.0  Santa Cruz Mountains, California\n",
      "\n",
      "[780 rows x 3 columns]\n"
     ]
    }
   ],
   "source": [
    "import pandas as pd\n",
    "wine = pd.read_csv('./sample_data/wine-ratings-small.csv')\n",
    "'''\n",
    "type -> variety\n",
    "region -> region\n",
    "wineScore -> rating\n",
    "\n",
    "how will we do this?\n",
    "1) alter the csv file to correct the column names\n",
    "2) \n",
    "\n",
    "'''\n",
    "# to get red from red wine\n",
    "wine['type'] = wine['variety'].str.split(' ').str[0]\n",
    "\n",
    "wine['score'] = wine['rating']\n",
    "\n",
    "wine = wine[['type', 'score', 'region']]\n",
    "\n",
    "print(wine)\n"
   ]
  },
  {
   "cell_type": "code",
   "execution_count": 71,
   "metadata": {},
   "outputs": [
    {
     "ename": "TypeError",
     "evalue": "'<' not supported between instances of 'str' and 'int'",
     "output_type": "error",
     "traceback": [
      "\u001b[0;31m---------------------------------------------------------------------------\u001b[0m",
      "\u001b[0;31mTypeError\u001b[0m                                 Traceback (most recent call last)",
      "Cell \u001b[0;32mIn[71], line 12\u001b[0m\n\u001b[1;32m     10\u001b[0m \u001b[39mwith\u001b[39;00m \u001b[39mopen\u001b[39m(\u001b[39m'\u001b[39m\u001b[39mWineJson.json\u001b[39m\u001b[39m'\u001b[39m, \u001b[39m'\u001b[39m\u001b[39mw\u001b[39m\u001b[39m'\u001b[39m) \u001b[39mas\u001b[39;00m f:\n\u001b[1;32m     11\u001b[0m     \u001b[39mfor\u001b[39;00m index, row \u001b[39min\u001b[39;00m wine\u001b[39m.\u001b[39miterrows():\n\u001b[0;32m---> 12\u001b[0m          \u001b[39mif\u001b[39;00m (row[\u001b[39m'\u001b[39m\u001b[39mscore\u001b[39m\u001b[39m'\u001b[39m] \u001b[39m>\u001b[39m \u001b[39m90\u001b[39m \u001b[39mand\u001b[39;00m row[\u001b[39m'\u001b[39;49m\u001b[39mregion\u001b[39;49m\u001b[39m'\u001b[39;49m] \u001b[39m<\u001b[39;49m \u001b[39m92\u001b[39;49m):\n\u001b[1;32m     13\u001b[0m             data \u001b[39m=\u001b[39m {\u001b[39m\"\u001b[39m\u001b[39mtype\u001b[39m\u001b[39m\"\u001b[39m: row[\u001b[39m'\u001b[39m\u001b[39mtype\u001b[39m\u001b[39m'\u001b[39m], \u001b[39m\"\u001b[39m\u001b[39mscore\u001b[39m\u001b[39m\"\u001b[39m: row[\u001b[39m'\u001b[39m\u001b[39mscore\u001b[39m\u001b[39m'\u001b[39m], \u001b[39m\"\u001b[39m\u001b[39mregion\u001b[39m\u001b[39m\"\u001b[39m: row[\u001b[39m'\u001b[39m\u001b[39mregion\u001b[39m\u001b[39m'\u001b[39m]}\n\u001b[1;32m     14\u001b[0m             json\u001b[39m.\u001b[39mdump(data,f)\n",
      "\u001b[0;31mTypeError\u001b[0m: '<' not supported between instances of 'str' and 'int'"
     ]
    }
   ],
   "source": [
    "# TO GET THIS INTO NEW CSV FILE\n",
    "import json\n",
    "newWine = {'type': [], 'score': [], 'region': []}\n",
    "\n",
    "'''\n",
    "with open('WineJson.json', 'w') as f:\n",
    "    for index, row in wine.iterrows():\n",
    "        json.dumps(row)\n",
    "'''\n",
    "with open('WineJson.json', 'w') as f:\n",
    "    for index, row in wine.iterrows():\n",
    "         if (row['score'] > 90 and row['score'] < 92):\n",
    "            data = {\"type\": row['type'], \"score\": row['score'], \"region\": row['region']}\n",
    "            json.dump(data,f)\n",
    "\n",
    "\n",
    "'''\n",
    "for index, row in wine.iterrows():\n",
    "    newWine['type'].append(row['type'])\n",
    "    newWine['score'].append(row['score'])\n",
    "    newWine['region'].append(row['region'])\n",
    "'''\n"
   ]
  },
  {
   "cell_type": "code",
   "execution_count": null,
   "metadata": {},
   "outputs": [],
   "source": [
    "for index, row in wine.iterrows():\n",
    "    print(row)"
   ]
  }
 ],
 "metadata": {
  "kernelspec": {
   "display_name": "Python 3",
   "language": "python",
   "name": "python3"
  },
  "language_info": {
   "codemirror_mode": {
    "name": "ipython",
    "version": 3
   },
   "file_extension": ".py",
   "mimetype": "text/x-python",
   "name": "python",
   "nbconvert_exporter": "python",
   "pygments_lexer": "ipython3",
   "version": "3.10.6"
  },
  "orig_nbformat": 4,
  "vscode": {
   "interpreter": {
    "hash": "916dbcbb3f70747c44a77c7bcd40155683ae19c65e1c03b4aa3499c5328201f1"
   }
  }
 },
 "nbformat": 4,
 "nbformat_minor": 2
}
